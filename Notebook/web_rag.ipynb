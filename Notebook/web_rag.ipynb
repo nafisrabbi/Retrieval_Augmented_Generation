{
 "cells": [
  {
   "cell_type": "code",
   "execution_count": 25,
   "metadata": {},
   "outputs": [],
   "source": [
    "import os\n",
    "import time\n",
    "import textwrap\n",
    "import requests\n",
    "from bs4 import BeautifulSoup\n",
    "from urllib.parse import urljoin, urlparse\n",
    "from langchain_groq import ChatGroq\n",
    "from langchain.docstore.document import Document \n",
    "from langchain.text_splitter import RecursiveCharacterTextSplitter\n",
    "from langchain.chains.combine_documents import create_stuff_documents_chain\n",
    "from langchain_core.prompts import ChatPromptTemplate\n",
    "from langchain.chains import create_retrieval_chain\n",
    "from langchain_community.vectorstores import FAISS\n",
    "from langchain_community.document_loaders import WebBaseLoader\n",
    "from langchain_google_genai import GoogleGenerativeAIEmbeddings\n",
    "from dotenv import load_dotenv"
   ]
  },
  {
   "cell_type": "code",
   "execution_count": 2,
   "metadata": {},
   "outputs": [],
   "source": [
    "# Load environment variables from .env file (instead of Streamlit secrets)\n",
    "load_dotenv()\n",
    "\n",
    "# Load API keys from environment variables\n",
    "groq_api_key = os.getenv(\"GROQ_API_KEY\")\n",
    "google_api_key = os.getenv(\"GOOGLE_API_KEY\")"
   ]
  },
  {
   "cell_type": "code",
   "execution_count": 7,
   "metadata": {},
   "outputs": [],
   "source": [
    "# Initialize LLM\n",
    "llm = ChatGroq(\n",
    "    groq_api_key=groq_api_key,\n",
    "    model_name=\"mixtral-8x7b-32768\"\n",
    ")"
   ]
  },
  {
   "cell_type": "code",
   "execution_count": 3,
   "metadata": {},
   "outputs": [],
   "source": [
    "# Define the prompt template\n",
    "prompt = ChatPromptTemplate.from_template(\n",
    "    \"\"\"\n",
    "    You are a Webpage Assistant that helps users to find information in a context.\n",
    "    Please provide the most accurate response based on the context and inputs.\n",
    "    Only give information that is in the context, not in general.\n",
    "    <context>\n",
    "    {context}\n",
    "    </context>\n",
    "    Questions:{input}\n",
    "    \"\"\"\n",
    ")"
   ]
  },
  {
   "cell_type": "code",
   "execution_count": 32,
   "metadata": {},
   "outputs": [
    {
     "name": "stdout",
     "output_type": "stream",
     "text": [
      "Vector Store DB is ready.\n"
     ]
    }
   ],
   "source": [
    "def extract_links(homepage_url):\n",
    "    try:\n",
    "        # Fetch the webpage content\n",
    "        response = requests.get(homepage_url)\n",
    "        response.raise_for_status()  # Check if the request was successful\n",
    "\n",
    "        # Parse the HTML content\n",
    "        soup = BeautifulSoup(response.content, 'html.parser')\n",
    "\n",
    "        # Find all anchor tags (links) on the page\n",
    "        links = soup.find_all('a', href=True)\n",
    "\n",
    "        # Extract href attribute from each link and join with the homepage URL\n",
    "        all_links = set()\n",
    "        homepage_domain = urlparse(homepage_url).netloc  # Extract domain from homepage URL\n",
    "\n",
    "        for link in links:\n",
    "            href = link['href']\n",
    "\n",
    "            # Filter out non-HTTP/HTTPS and non-relative links\n",
    "            if href.startswith(('http://', 'https://')):\n",
    "                # Check if the link belongs to the same domain\n",
    "                link_domain = urlparse(href).netloc\n",
    "                if link_domain == homepage_domain:\n",
    "                    full_link = urljoin(homepage_url, href)  # Join with the base URL if needed\n",
    "                    all_links.add(full_link)\n",
    "\n",
    "            elif href.startswith('/'):  # Handle relative URLs\n",
    "                full_link = urljoin(homepage_url, href)\n",
    "                all_links.add(full_link)\n",
    "\n",
    "        return all_links\n",
    "\n",
    "    except requests.exceptions.RequestException as e:\n",
    "        print(f\"Error fetching the webpage: {e}\")\n",
    "        return set()\n",
    "\n",
    "# Function to process the entire website, including the homepage URL\n",
    "def vector_embedding(webpage_link):\n",
    "    embeddings = GoogleGenerativeAIEmbeddings(model=\"models/embedding-001\")\n",
    "    all_links = extract_links(webpage_link)\n",
    "    \n",
    "    if webpage_link not in all_links:\n",
    "        all_links.add(webpage_link)\n",
    "    \n",
    "    # Initialize the list of final_documents\n",
    "    final_documents = []\n",
    "    \n",
    "    # Iterate over all links to load and process the documents\n",
    "    for link in all_links:\n",
    "        loader = WebBaseLoader(link)  # Load webpage\n",
    "        docs = loader.load()  # Document loading\n",
    "        text_splitter = RecursiveCharacterTextSplitter(chunk_size=1000, chunk_overlap=200)  # Chunk creation\n",
    "\n",
    "        # Split the documents into chunks and append each as a Document\n",
    "        for doc in text_splitter.split_documents(docs):  # Splitting\n",
    "            # Ensure 'doc' is a string before passing it to Document\n",
    "            doc_str = str(doc)  # Convert to string if necessary\n",
    "            document = Document(page_content=doc_str)  # Wrap each chunk into a Document object\n",
    "            final_documents.append(document)\n",
    "\n",
    "    # Now that all documents are wrapped with 'page_content', create vectors\n",
    "    vectors = FAISS.from_documents(final_documents, embeddings)  # Vector embeddings\n",
    "    return vectors\n",
    "    \n",
    "\n",
    "# Input for webpage link\n",
    "webpage_link = \"https://nijhoom.com/\"\n",
    "\n",
    "# Process the webpage to create embeddings\n",
    "vectors = vector_embedding(webpage_link)\n",
    "print(\"Vector Store DB is ready.\")"
   ]
  },
  {
   "cell_type": "code",
   "execution_count": 34,
   "metadata": {},
   "outputs": [
    {
     "name": "stdout",
     "output_type": "stream",
     "text": [
      "Response time: 0.02803059300000399 seconds\n",
      "Based on the provided context, the Bangladesh Holiday Packages refer to the arrival to departure Bangladesh Holiday & Vacation Packages listed on the page.\n",
      "These packages include accommodations suitable for Western travelers, with complimentary breakfast and airport transfers. They are available to book anytime\n",
      "outside the schedule on a private basis for a group of two travelers. Hotel upgrades in Dhaka and other available places can be provided. The price for the last\n",
      "night's accommodation will be deducted if you depart on an evening flight. Off-season discounts are available from April to September, and an early-bird\n",
      "discount is offered for the first two travelers to book any scheduled tours six months in advance. Free cancellation up to 45 days before the tour and Covid-19\n",
      "protection are also provided for these holiday packages in Bangladesh. For meals, dinner is not included, but breakfast is provided at the hotel or a local\n",
      "restaurant. All meals, tea, coffee, and drinking water are included for the three days in Sundarbans, and vegetarian and vegan meals are available in\n",
      "restaurants in Bangladesh, with more options in Western restaurants. Alcohol is legally available for foreigners in Bangladesh, with many bars and warehouses\n",
      "around the country run by the government and private companies.\n"
     ]
    }
   ],
   "source": [
    "# Input for the question\n",
    "prompt1 = \"what are the holiday packages?\"\n",
    "\n",
    "if prompt1:\n",
    "    document_chain = create_stuff_documents_chain(llm, prompt)\n",
    "    retriever = vectors.as_retriever()\n",
    "    retrieval_chain = create_retrieval_chain(retriever, document_chain)\n",
    "    start = time.process_time()\n",
    "    response = retrieval_chain.invoke({'input': prompt1})\n",
    "    print(f\"Response time: {time.process_time() - start} seconds\")\n",
    "    wrapped_text = textwrap.fill(response['answer'], width=160)\n",
    "    print(wrapped_text)\n",
    "\n",
    "else:\n",
    "    print(\"Please enter a valid question.\")"
   ]
  }
 ],
 "metadata": {
  "kernelspec": {
   "display_name": "llm_env",
   "language": "python",
   "name": "python3"
  },
  "language_info": {
   "codemirror_mode": {
    "name": "ipython",
    "version": 3
   },
   "file_extension": ".py",
   "mimetype": "text/x-python",
   "name": "python",
   "nbconvert_exporter": "python",
   "pygments_lexer": "ipython3",
   "version": "3.11.11"
  }
 },
 "nbformat": 4,
 "nbformat_minor": 2
}
